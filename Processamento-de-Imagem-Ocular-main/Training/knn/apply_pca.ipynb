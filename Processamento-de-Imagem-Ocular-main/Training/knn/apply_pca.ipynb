{
 "cells": [
  {
   "cell_type": "code",
   "execution_count": null,
   "id": "05990b6e",
   "metadata": {},
   "outputs": [],
   "source": [
    "import pandas as pd\n",
    "from sklearn.decomposition import PCA\n",
    "from sklearn.preprocessing import StandardScaler\n",
    "import os\n",
    "\n",
    "# Caminho para o CSV com os nomes dos top 6 (ajuste se precisar)\n",
    "top6_csv_path = 'top6_knn.csv'\n",
    "\n",
    "def aplicar_pca(nome_arquivo):\n",
    "    # Remove possíveis espaços e sufixos extras\n",
    "    nome_limpo = nome_arquivo.strip().split(' - ')[0]\n",
    "\n",
    "    if not os.path.isfile(nome_limpo):\n",
    "        print(f\"Aviso: arquivo {nome_limpo} não encontrado, pulando.\")\n",
    "        return\n",
    "\n",
    "    # Lê o CSV original\n",
    "    df = pd.read_csv(nome_limpo)\n",
    "\n",
    "    # Separa features e labels (assume última coluna é a classe)\n",
    "    X = df.iloc[:, :-1]\n",
    "    y = df.iloc[:, -1]\n",
    "\n",
    "    # Normaliza os dados antes do PCA\n",
    "    scaler = StandardScaler()\n",
    "    X_norm = scaler.fit_transform(X)\n",
    "\n",
    "    # Aplica PCA com 10 componentes\n",
    "    pca = PCA(n_components=10)\n",
    "    X_pca = pca.fit_transform(X_norm)\n",
    "\n",
    "    # Cria DataFrame com PCs + classe\n",
    "    df_pca = pd.DataFrame(X_pca, columns=[f'PC{i+1}' for i in range(10)])\n",
    "    df_pca['class'] = y\n",
    "\n",
    "    # Salva novo CSV com sufixo \"_pca10\"\n",
    "    novo_nome = nome_limpo.replace('.csv', '_pca10.csv')\n",
    "    df_pca.to_csv(novo_nome, index=False)\n",
    "\n",
    "    print(f\"PCA aplicado e salvo em: {novo_nome}\")\n",
    "\n",
    "def main():\n",
    "    top6_df = pd.read_csv(top6_csv_path)\n",
    "\n",
    "    # Assume que a primeira coluna do top6_knn.csv tem os nomes dos arquivos\n",
    "    for nome_arquivo in top6_df.iloc[:, 0]:\n",
    "        aplicar_pca(nome_arquivo)\n",
    "\n",
    "if __name__ == \"__main__\":\n",
    "    main()\n"
   ]
  }
 ],
 "metadata": {
  "kernelspec": {
   "display_name": "Python 3",
   "language": "python",
   "name": "python3"
  },
  "language_info": {
   "name": "python",
   "version": "3.11.0"
  }
 },
 "nbformat": 4,
 "nbformat_minor": 5
}
